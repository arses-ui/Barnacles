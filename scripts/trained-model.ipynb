{
 "cells": [
  {
   "cell_type": "markdown",
   "id": "8006cc5a",
   "metadata": {},
   "source": [
    "<font size =8> Barnacle Detection by Training a Model\n",
    "<font size =4>\n",
    "\n",
    "In this experiment, I will tune a large pre-trained model. YOLO11 model is known for having exceptional object detection and counting abilities. By training it on a dataset of just Barnacles, I optimize its capabilities for the specific task of counting barnacles. I obtained the datatset of Barnacles from [Roboflow Universe](https://universe.roboflow.com/), world's largest collection of open source computer vision datasets and APIs."
   ]
  },
  {
   "cell_type": "code",
   "execution_count": 4,
   "id": "efccd9f9",
   "metadata": {},
   "outputs": [],
   "source": [
    "from ultralytics import YOLO\n",
    "from helpers import *\n",
    "import os "
   ]
  },
  {
   "cell_type": "markdown",
   "id": "7857e3c0",
   "metadata": {},
   "source": [
    "<font size =5>Training and initializing the model \n",
    "\n",
    "<font size =4> The YOLO model was trained using a Barnacle Detection dataset for 40 epochs on Google Collab. The best weight  were downloaded and stored in the best.pt file in this directory. The YOLO model uses this set of weights for the inference section. If interested on the specifics of the training, you can check out the YOLO11.ipynb notebook, or the Training_Results directory.\n"
   ]
  },
  {
   "cell_type": "code",
   "execution_count": 5,
   "id": "b9b70bae",
   "metadata": {},
   "outputs": [
    {
     "name": "stdout",
     "output_type": "stream",
     "text": [
      "\n",
      "image 1/1 c:\\Users\\arses\\Barnacles\\scripts\\sample_image.png: 640x640 300 barnacles, 227.2ms\n",
      "Speed: 9.4ms preprocess, 227.2ms inference, 16.6ms postprocess per image at shape (1, 3, 640, 640)\n",
      " The number of barnacles is: 300\n"
     ]
    }
   ],
   "source": [
    "model = YOLO('best.pt')\n",
    "results = model('sample_image.png')\n",
    "\n",
    "object_count = len(results[0].boxes)\n",
    "print(f\" The number of barnacles is: {object_count}\")"
   ]
  },
  {
   "cell_type": "markdown",
   "id": "8853bb25",
   "metadata": {},
   "source": [
    "<font size = 4> While performing inference on the entire image containing 1000+ barnacles, the model grossly underperforms. This is because the dataset on which the model was trained comprises of images with relatively much lower number of barnacles. \n",
    "\n",
    "To tackle this issue, I take a similar approach as with the API-model, breaking the image down into ~30 images. The images are then stored in a temporary directory in the notebook and deleted upon the completion of the inference task. "
   ]
  },
  {
   "cell_type": "markdown",
   "id": "45c4f34a",
   "metadata": {},
   "source": [
    "<font size = 5>Specifying Image Path and Output Directory"
   ]
  },
  {
   "cell_type": "code",
   "execution_count": 6,
   "id": "b6440f8c",
   "metadata": {},
   "outputs": [
    {
     "name": "stdout",
     "output_type": "stream",
     "text": [
      "Directory 'C:/Users/arses/Desktop/Cropped_images' already exists.\n"
     ]
    }
   ],
   "source": [
    "output_directory  = \"C:/Users/arses/Desktop/Cropped_images\"\n",
    "image_path = \"sample_image.png\"\n",
    "\n",
    "try : \n",
    "    os.mkdir(output_directory)\n",
    "    print(f\"Directory '{output_directory}' created successfully.\")\n",
    "\n",
    "#Already created this file\n",
    "except FileExistsError: \n",
    "    print(f\"Directory '{output_directory}' already exists.\")\n",
    "\n",
    "#Check access and permissions settings \n",
    "except PermissionError: \n",
    "    print(f\"Permission denied: Unable to create '{output_directory}.\")\n",
    "\n",
    "#Any other type of errors \n",
    "except Exception as e: \n",
    "    print(f\"An error occured:{e}\")"
   ]
  },
  {
   "cell_type": "markdown",
   "id": "09cc4b04",
   "metadata": {},
   "source": [
    "<font size =5>Crop the image into ~30 smaller tiles"
   ]
  },
  {
   "cell_type": "code",
   "execution_count": 7,
   "id": "7cf76003",
   "metadata": {},
   "outputs": [
    {
     "name": "stdout",
     "output_type": "stream",
     "text": [
      "Image cropped successfully\n"
     ]
    }
   ],
   "source": [
    "crop_image_into_tiles(image_path,output_directory)"
   ]
  },
  {
   "cell_type": "markdown",
   "id": "ef514512",
   "metadata": {},
   "source": [
    "<font size = 5>Running the loop for the counting the number of barnacles"
   ]
  },
  {
   "cell_type": "code",
   "execution_count": 8,
   "id": "3a221741",
   "metadata": {},
   "outputs": [
    {
     "name": "stdout",
     "output_type": "stream",
     "text": [
      "Number of files in 'C:/Users/arses/Desktop/Cropped_images': 30\n",
      "The number of barnacles present in the image is: 1221\n"
     ]
    }
   ],
   "source": [
    "number_of_barnacles= 0\n",
    "number_of_images= directory_size(output_directory)\n",
    "for i in range(number_of_images):\n",
    "    \n",
    "    result = model(f\"{output_directory}/tile_{i}.png\", verbose= False)\n",
    "    count = len(result[0].boxes)\n",
    "    number_of_barnacles+= count\n",
    "\n",
    "print(f\"The number of barnacles present in the image is: {number_of_barnacles}\")\n"
   ]
  },
  {
   "cell_type": "markdown",
   "id": "da92d35a",
   "metadata": {},
   "source": [
    "<font size = 5>Removing the saved tiles from the directory "
   ]
  },
  {
   "cell_type": "code",
   "execution_count": 9,
   "id": "c1fd0246",
   "metadata": {},
   "outputs": [],
   "source": [
    "remove_files_from_directory(output_directory)"
   ]
  }
 ],
 "metadata": {
  "kernelspec": {
   "display_name": "venv",
   "language": "python",
   "name": "python3"
  },
  "language_info": {
   "codemirror_mode": {
    "name": "ipython",
    "version": 3
   },
   "file_extension": ".py",
   "mimetype": "text/x-python",
   "name": "python",
   "nbconvert_exporter": "python",
   "pygments_lexer": "ipython3",
   "version": "3.9.0"
  }
 },
 "nbformat": 4,
 "nbformat_minor": 5
}
