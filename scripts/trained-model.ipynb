{
 "cells": [
  {
   "cell_type": "markdown",
   "id": "8006cc5a",
   "metadata": {},
   "source": [
    "<font size =8> Barnacle Detection by Training a Model\n",
    "<font size =4>\n",
    "\n",
    "In this experiment, I will tune a large pre-trained model. YOLO11 model is known for having exceptional object detection and counting abilities. By training it on a dataset of just Barnacles, I optimize its capabilities for the specific task of counting barnacles. I obtained the datatset of Barnacles from [Roboflow Universe](https://universe.roboflow.com/), world's largest collection of open source computer vision datasets and APIs."
   ]
  },
  {
   "cell_type": "code",
   "execution_count": 7,
   "id": "efccd9f9",
   "metadata": {},
   "outputs": [],
   "source": [
    "from ultralytics import YOLO\n",
    "from helpers import *\n",
    "import os \n",
    "import matplotlib.pyplot as plt\n",
    "from sahi import AutoDetectionModel\n",
    "from sahi.predict import get_sliced_prediction"
   ]
  },
  {
   "cell_type": "markdown",
   "id": "7857e3c0",
   "metadata": {},
   "source": [
    "<font size =5>Training and initializing the model \n",
    "\n",
    "<font size =4> The YOLO model was trained using a Barnacle Detection dataset for 40 epochs on Google Collab. The best weight  were downloaded and stored in the best.pt file in this directory. The YOLO model uses this set of weights for the inference section. If interested on the specifics of the training, you can check out the YOLO11.ipynb notebook, or the Training_Results directory.\n"
   ]
  },
  {
   "cell_type": "code",
   "execution_count": 19,
   "id": "b9b70bae",
   "metadata": {},
   "outputs": [
    {
     "name": "stdout",
     "output_type": "stream",
     "text": [
      "Performing prediction on 88 slices.\n"
     ]
    },
    {
     "ename": "ImportError",
     "evalue": "Please run \"uv pip install -U fiftyone\" to install fiftyone for conversion.",
     "output_type": "error",
     "traceback": [
      "\u001b[1;31m---------------------------------------------------------------------------\u001b[0m",
      "\u001b[1;31mModuleNotFoundError\u001b[0m                       Traceback (most recent call last)",
      "File \u001b[1;32mc:\\Users\\arses\\Barnacles\\venv\\lib\\site-packages\\sahi\\prediction.py:237\u001b[0m, in \u001b[0;36mPredictionResult.to_fiftyone_detections\u001b[1;34m(self)\u001b[0m\n\u001b[0;32m    236\u001b[0m \u001b[38;5;28;01mtry\u001b[39;00m:\n\u001b[1;32m--> 237\u001b[0m     \u001b[38;5;28;01mimport\u001b[39;00m\u001b[38;5;250m \u001b[39m\u001b[38;5;21;01mfiftyone\u001b[39;00m\u001b[38;5;250m \u001b[39m\u001b[38;5;28;01mas\u001b[39;00m\u001b[38;5;250m \u001b[39m\u001b[38;5;21;01mfo\u001b[39;00m\n\u001b[0;32m    238\u001b[0m \u001b[38;5;28;01mexcept\u001b[39;00m \u001b[38;5;167;01mImportError\u001b[39;00m:\n",
      "\u001b[1;31mModuleNotFoundError\u001b[0m: No module named 'fiftyone'",
      "\nDuring handling of the above exception, another exception occurred:\n",
      "\u001b[1;31mImportError\u001b[0m                               Traceback (most recent call last)",
      "Cell \u001b[1;32mIn[19], line 15\u001b[0m\n\u001b[0;32m      6\u001b[0m result \u001b[38;5;241m=\u001b[39m get_sliced_prediction(\n\u001b[0;32m      7\u001b[0m     \u001b[38;5;124m'\u001b[39m\u001b[38;5;124mimages/sample_image2.png\u001b[39m\u001b[38;5;124m'\u001b[39m,\n\u001b[0;32m      8\u001b[0m     model, slice_height\u001b[38;5;241m=\u001b[39m\u001b[38;5;241m256\u001b[39m,\n\u001b[1;32m   (...)\u001b[0m\n\u001b[0;32m     11\u001b[0m     overlap_width_ratio\u001b[38;5;241m=\u001b[39m\u001b[38;5;241m0.4\u001b[39m,\n\u001b[0;32m     12\u001b[0m     )\n\u001b[0;32m     14\u001b[0m object_prediction_list \u001b[38;5;241m=\u001b[39m result\u001b[38;5;241m.\u001b[39mobject_prediction_list\n\u001b[1;32m---> 15\u001b[0m \u001b[43mresult\u001b[49m\u001b[38;5;241;43m.\u001b[39;49m\u001b[43mto_fiftyone_detections\u001b[49m\u001b[43m(\u001b[49m\u001b[43m)\u001b[49m[:\u001b[38;5;241m3\u001b[39m]\n\u001b[0;32m     17\u001b[0m \u001b[38;5;28mprint\u001b[39m(\u001b[38;5;28mlen\u001b[39m(object_prediction_list))\n\u001b[0;32m     18\u001b[0m \u001b[38;5;66;03m# object_count = len(result[0].boxes)\u001b[39;00m\n\u001b[0;32m     19\u001b[0m \u001b[38;5;66;03m# print(f\" The number of barnacles is: {object_count}\")\u001b[39;00m\n",
      "File \u001b[1;32mc:\\Users\\arses\\Barnacles\\venv\\lib\\site-packages\\sahi\\prediction.py:239\u001b[0m, in \u001b[0;36mPredictionResult.to_fiftyone_detections\u001b[1;34m(self)\u001b[0m\n\u001b[0;32m    237\u001b[0m     \u001b[38;5;28;01mimport\u001b[39;00m\u001b[38;5;250m \u001b[39m\u001b[38;5;21;01mfiftyone\u001b[39;00m\u001b[38;5;250m \u001b[39m\u001b[38;5;28;01mas\u001b[39;00m\u001b[38;5;250m \u001b[39m\u001b[38;5;21;01mfo\u001b[39;00m\n\u001b[0;32m    238\u001b[0m \u001b[38;5;28;01mexcept\u001b[39;00m \u001b[38;5;167;01mImportError\u001b[39;00m:\n\u001b[1;32m--> 239\u001b[0m     \u001b[38;5;28;01mraise\u001b[39;00m \u001b[38;5;167;01mImportError\u001b[39;00m(\u001b[38;5;124m'\u001b[39m\u001b[38;5;124mPlease run \u001b[39m\u001b[38;5;124m\"\u001b[39m\u001b[38;5;124muv pip install -U fiftyone\u001b[39m\u001b[38;5;124m\"\u001b[39m\u001b[38;5;124m to install fiftyone for conversion.\u001b[39m\u001b[38;5;124m'\u001b[39m)\n\u001b[0;32m    241\u001b[0m fiftyone_detection_list: List[fo\u001b[38;5;241m.\u001b[39mDetection] \u001b[38;5;241m=\u001b[39m []\n\u001b[0;32m    242\u001b[0m \u001b[38;5;28;01mfor\u001b[39;00m object_prediction \u001b[38;5;129;01min\u001b[39;00m \u001b[38;5;28mself\u001b[39m\u001b[38;5;241m.\u001b[39mobject_prediction_list:\n",
      "\u001b[1;31mImportError\u001b[0m: Please run \"uv pip install -U fiftyone\" to install fiftyone for conversion."
     ]
    }
   ],
   "source": [
    "model = AutoDetectionModel.from_pretrained(\n",
    "    model_type = \"ultralytics\", \n",
    "    model_path = 'best.pt', \n",
    "    confidence_threshold=0.3, \n",
    "    device =\"cpu\")\n",
    "result = get_sliced_prediction(\n",
    "    'images/sample_image2.png',\n",
    "    model, slice_height=256,\n",
    "    slice_width=256,\n",
    "    overlap_height_ratio=0.2,\n",
    "    overlap_width_ratio=0.4,\n",
    "    )\n",
    "\n",
    "object_prediction_list = result.object_prediction_list\n",
    "result.to_fiftyone_detections()[:3]\n",
    "\n",
    "print(len(object_prediction_list))\n",
    "# object_count = len(result[0].boxes)\n",
    "# print(f\" The number of barnacles is: {object_count}\")"
   ]
  },
  {
   "cell_type": "markdown",
   "id": "8853bb25",
   "metadata": {},
   "source": [
    "<font size = 4> While performing inference on the entire image containing 1000+ barnacles, the model grossly underperforms. This is because the dataset on which the model was trained comprises of images with relatively much lower number of barnacles. \n",
    "\n",
    "To tackle this issue, I take a similar approach as with the API-model, breaking the image down into ~30 images. The images are then stored in a temporary directory in the notebook and deleted upon the completion of the inference task. "
   ]
  },
  {
   "cell_type": "markdown",
   "id": "45c4f34a",
   "metadata": {},
   "source": [
    "<font size = 5>Specifying Image Path and Output Directory"
   ]
  },
  {
   "cell_type": "code",
   "execution_count": 17,
   "id": "b6440f8c",
   "metadata": {},
   "outputs": [
    {
     "name": "stdout",
     "output_type": "stream",
     "text": [
      "Directory 'C:\\Users\\arses\\AppData\\Local\\Temp\\tmp1yf6ocwv' created successfully.\n"
     ]
    }
   ],
   "source": []
  },
  {
   "cell_type": "markdown",
   "id": "09cc4b04",
   "metadata": {},
   "source": [
    "<font size =5>Crop the image into ~30 smaller tiles"
   ]
  },
  {
   "cell_type": "code",
   "execution_count": 16,
   "id": "7cf76003",
   "metadata": {},
   "outputs": [
    {
     "name": "stdout",
     "output_type": "stream",
     "text": [
      "Error: Image not found at sample_image2.png\n"
     ]
    }
   ],
   "source": [
    "crop_image_into_tiles(image_path,output_directory)"
   ]
  },
  {
   "cell_type": "markdown",
   "id": "ef514512",
   "metadata": {},
   "source": [
    "<font size = 5>Running the loop for the counting the number of barnacles"
   ]
  },
  {
   "cell_type": "code",
   "execution_count": 17,
   "id": "3a221741",
   "metadata": {},
   "outputs": [
    {
     "name": "stdout",
     "output_type": "stream",
     "text": [
      "Number of files in 'C:/Users/arses/Desktop/Cropped_images': 36\n",
      "The number of barnacles present in the image is: 493\n"
     ]
    }
   ],
   "source": [
    "number_of_barnacles= 0\n",
    "number_of_images= directory_size(output_directory)\n",
    "for i in range(number_of_images):\n",
    "    \n",
    "    result = model(f\"{output_directory}/tile_{i}.png\", verbose= False)\n",
    "    count = len(result[0].boxes)\n",
    "    number_of_barnacles+= count\n",
    "\n",
    "print(f\"The number of barnacles present in the image is: {number_of_barnacles}\")\n"
   ]
  },
  {
   "cell_type": "markdown",
   "id": "da92d35a",
   "metadata": {},
   "source": [
    "<font size = 5>Removing the saved tiles from the directory "
   ]
  },
  {
   "cell_type": "code",
   "execution_count": null,
   "id": "c1fd0246",
   "metadata": {},
   "outputs": [],
   "source": [
    "remove_files_from_directory(output_directory)"
   ]
  },
  {
   "cell_type": "markdown",
   "id": "50ac4ca4",
   "metadata": {},
   "source": [
    "<Font size = 6> Comparing Performance"
   ]
  },
  {
   "cell_type": "code",
   "execution_count": 13,
   "id": "6c6490a3",
   "metadata": {},
   "outputs": [
    {
     "data": {
      "image/png": "[encoded data removed]",
      "text/plain": [
       "<Figure size 900x400 with 2 Axes>"
      ]
     },
     "metadata": {},
     "output_type": "display_data"
    }
   ],
   "source": [
    "tiles_2 = [12, 16, 36, 42, 64, 72, 90, 121]\n",
    "results_tiles_2 = [419, 448, 493, 504, 498, 503, 494, 479]\n",
    "\n",
    "tiles = [9, 20 , 30, 42, 64, 81, 100, 110]\n",
    "results_tiles = [1111, 1163, 1221, 1224, 1227, 1214, 1176, 1286]\n",
    "\n",
    "fig, (ax1, ax2) = plt.subplots(1, 2, figsize = (9,4))\n",
    "\n",
    "ax1.plot(tiles, results_tiles)\n",
    "ax1.set_title('Sample image 1')\n",
    "ax1.set_xlabel('Number of Tiles ')\n",
    "ax1.set_ylabel('Barnacles Detected')\n",
    "ax1.grid()\n",
    "ax1.axhline(y= 1748, color='r', linestyle='--', label='Actual number of Barnacles')\n",
    "\n",
    "\n",
    "ax2.plot(tiles_2, results_tiles_2, color='red')\n",
    "ax2.set_title('Sample Image 2 ')\n",
    "ax2.set_xlabel('Number of Tiles')\n",
    "ax2.set_ylabel('Barnacles Detected')\n",
    "ax2.axhline(y= 522, color='r', linestyle='--', label='Actual number of Barnacles')\n",
    "ax2.grid()\n",
    "\n",
    "plt.tight_layout()\n",
    "plt.show()\n"
   ]
  },
  {
   "cell_type": "markdown",
   "id": "3fd2d560",
   "metadata": {},
   "source": [
    "<font size =4> Here, the number of tiles refers to the number of cropped images the main image is broken down into for improved inference. While having more tiles might sound nice in thoery, making the work for model much easier, it can lead to repruscussion. For images with relatively less number of Barnacles, large number of pieces might mean that barnacles might get cropped across several images, rendering the model unable to recognize a lot of them. \n",
    "\n",
    "Rather a more heuristic method can be taken for image processing and the number of tiles the image is broken down into, based on the clustering and estimated number of barnacles in a picture."
   ]
  }
 ],
 "metadata": {
  "kernelspec": {
   "display_name": "venv (3.9.0)",
   "language": "python",
   "name": "python3"
  },
  "language_info": {
   "codemirror_mode": {
    "name": "ipython",
    "version": 3
   },
   "file_extension": ".py",
   "mimetype": "text/x-python",
   "name": "python",
   "nbconvert_exporter": "python",
   "pygments_lexer": "ipython3",
   "version": "3.9.0"
  }
 },
 "nbformat": 4,
 "nbformat_minor": 5
}
