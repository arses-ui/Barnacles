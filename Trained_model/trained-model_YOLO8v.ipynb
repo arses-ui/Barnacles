{
 "cells": [
  {
   "cell_type": "markdown",
   "id": "8006cc5a",
   "metadata": {},
   "source": [
    "<font size =8> Barnacle Detection by Training a Model\n",
    "<font size =4>\n",
    "\n",
    "In this experiment, I will tune a large pre-trained model. YOLO11 model is known for having exceptional object detection and counting abilities. By training it on a dataset of just Barnacles, I optimize its capabilities for the specific task of counting barnacles. I obtained the datatset of Barnacles from [Roboflow Universe](https://universe.roboflow.com/), world's largest collection of open source computer vision datasets and APIs."
   ]
  },
  {
   "cell_type": "code",
   "execution_count": 2,
   "id": "efccd9f9",
   "metadata": {},
   "outputs": [],
   "source": [
    "from ultralytics import YOLO\n",
    "import os \n",
    "import matplotlib.pyplot as plt\n",
    "from sahi import AutoDetectionModel\n",
    "from sahi.predict import get_sliced_prediction\n",
    "import fiftyone as fo \n",
    "from fiftyone.core.labels import Detections\n",
    "import fiftyone.core.plots as fop\n",
    "import fiftyone.brain as fob"
   ]
  },
  {
   "cell_type": "code",
   "execution_count": 11,
   "id": "6603c1d4",
   "metadata": {},
   "outputs": [],
   "source": [
    "import ipywidgets"
   ]
  },
  {
   "cell_type": "markdown",
   "id": "7857e3c0",
   "metadata": {},
   "source": [
    "<font size =5>Training and initializing the model \n",
    "\n",
    "<font size =4> The YOLO model was trained using a Barnacle Detection dataset for 40 epochs on Google Collab. The best weight  were downloaded and stored in the best.pt file in this directory. The YOLO model uses this set of weights for the inference section. If interested on the specifics of the training, you can check out the YOLO11.ipynb notebook, or the Training_Results directory.\n"
   ]
  },
  {
   "cell_type": "markdown",
   "id": "8c9d5167",
   "metadata": {},
   "source": [
    "<font size = 6>Initializing model "
   ]
  },
  {
   "cell_type": "code",
   "execution_count": 3,
   "id": "b9b70bae",
   "metadata": {},
   "outputs": [],
   "source": [
    "\n",
    "model = AutoDetectionModel.from_pretrained(\n",
    "        model_type = \"ultralytics\", \n",
    "        model_path = 'best.pt', \n",
    "        confidence_threshold=0.3, \n",
    "        device =\"cpu\")\n",
    "    \n",
    "\n",
    "def sahi_inference(image_filepath): \n",
    "    \n",
    "    result = get_sliced_prediction(\n",
    "        'images/sample_image.png',\n",
    "        model, slice_height=256,\n",
    "        slice_width=256,\n",
    "        postprocess_match_metric=\"IOU\",\n",
    "        postprocess_match_threshold=0.4,\n",
    "        overlap_height_ratio=0.2,\n",
    "        postprocess_class_agnostic = True,\n",
    "        overlap_width_ratio=0.2,\n",
    "        )\n",
    "    return result\n",
    "\n",
    "# object_count = len(result[0].boxes)\n",
    "# print(f\" The number of barnacles is: {object_count}\")\n"
   ]
  },
  {
   "cell_type": "markdown",
   "id": "b22f1c38",
   "metadata": {},
   "source": [
    "<font size = 5> Creating Fiftyone Dataset to measure performance"
   ]
  },
  {
   "cell_type": "code",
   "execution_count": 4,
   "id": "7f0693e6",
   "metadata": {},
   "outputs": [
    {
     "name": "stdout",
     "output_type": "stream",
     "text": [
      "Deleting existing dataset: 'barnacle'\n",
      "Dataset 'barnacle' deleted successfully.\n"
     ]
    }
   ],
   "source": [
    "DATASET_NAME = \"barnacle\"\n",
    "if fo.dataset_exists(DATASET_NAME):\n",
    "    print(f\"Deleting existing dataset: '{DATASET_NAME}'\")\n",
    "    fo.delete_dataset(DATASET_NAME)\n",
    "    print(f\"Dataset '{DATASET_NAME}' deleted successfully.\")\n",
    "else:\n",
    "    print(f\"Dataset '{DATASET_NAME}' does not exist (or was already deleted).\")\n"
   ]
  },
  {
   "cell_type": "code",
   "execution_count": 5,
   "id": "a2648682",
   "metadata": {},
   "outputs": [
    {
     "name": "stdout",
     "output_type": "stream",
     "text": [
      " 100% |█████████████████████| 2/2 [23.9ms elapsed, 0s remaining, 83.6 samples/s]     \n"
     ]
    },
    {
     "name": "stderr",
     "output_type": "stream",
     "text": [
      "07/26/2025 14:28:27 - INFO - eta.core.utils -    100% |█████████████████████| 2/2 [23.9ms elapsed, 0s remaining, 83.6 samples/s]     \n"
     ]
    }
   ],
   "source": [
    "dataset= fo.Dataset.from_images_dir(\"images\", \n",
    "                                    name = \"barnacle\", \n",
    "                                    persistent = True)\n"
   ]
  },
  {
   "cell_type": "markdown",
   "id": "45c4f34a",
   "metadata": {},
   "source": [
    "<font size = 5>Adding Ground Truths and Predictions in the dataset \n",
    "\n"
   ]
  },
  {
   "cell_type": "markdown",
   "id": "1531eba6",
   "metadata": {},
   "source": [
    "<font size = 4> In this step, I create ground truth labellings for the fiftyone dataset. To do so, I will be performing Connected Componenets Analysis on the image masks for each sample, iterate through all the detected masks, and create bounding boxes for the masks.These will later be used for accuracy analysis methods like IoU calculation. "
   ]
  },
  {
   "cell_type": "code",
   "execution_count": 6,
   "id": "b6440f8c",
   "metadata": {},
   "outputs": [
    {
     "name": "stdout",
     "output_type": "stream",
     "text": [
      "Adding ground truth masks to the 'ground_truth' field...\n",
      "Ground truth masks added to the 'ground_truth' field for all samples.\n",
      "Name:        barnacle\n",
      "Media type:  image\n",
      "Num samples: 2\n",
      "Persistent:  True\n",
      "Tags:        []\n",
      "Sample fields:\n",
      "    id:               fiftyone.core.fields.ObjectIdField\n",
      "    filepath:         fiftyone.core.fields.StringField\n",
      "    tags:             fiftyone.core.fields.ListField(fiftyone.core.fields.StringField)\n",
      "    metadata:         fiftyone.core.fields.EmbeddedDocumentField(fiftyone.core.metadata.ImageMetadata)\n",
      "    created_at:       fiftyone.core.fields.DateTimeField\n",
      "    last_modified_at: fiftyone.core.fields.DateTimeField\n",
      "    ground_truth:     fiftyone.core.fields.EmbeddedDocumentField(fiftyone.core.labels.Detections)\n",
      "Sample 1 has ground truth: True\n",
      "-------------------------------------------------------------------------------------------------------------------------------------\n"
     ]
    }
   ],
   "source": [
    "import fiftyone as fo\n",
    "import fiftyone.utils.data as fou \n",
    "import cv2 \n",
    "import numpy as np \n",
    "import os\n",
    "\n",
    "IMAGE_DIR = \"images\" \n",
    "MASK_DIR = \"masks\"   \n",
    "\n",
    "GROUND_TRUTH_FIELD = \"ground_truth\" \n",
    "\n",
    "\n",
    "\n",
    "if GROUND_TRUTH_FIELD not in dataset.get_field_schema():\n",
    "    print(f\"Adding ground truth masks to the '{GROUND_TRUTH_FIELD}' field...\")\n",
    "    \n",
    "    #manually mapping the images to their masks because only two so convenient\n",
    "    filename_mapping = {\n",
    "        \"sample_image.png\":\"mask1.png\", \n",
    "        \"sample_image2.png\":\"mask2.png\"\n",
    "    }\n",
    "\n",
    "\n",
    "    for sample in dataset:   #Prepare masks for each image in the dataset\n",
    "        img_filename = os.path.basename(sample.filepath)\n",
    "        mask_filename = filename_mapping.get(img_filename) # handles cases where an image might not have a mask\n",
    "        mask_path = os.path.join(MASK_DIR, mask_filename)\n",
    "\n",
    "        if not os.path.exists(mask_path):\n",
    "            print(f\"Warning: Mask not found at {mask_path} for {img_filename}. Skipping ground truth for this sample.\")\n",
    "            continue\n",
    "\n",
    "        # Use cv2.IMREAD_GRAYSCALE to ensure it's loaded as a single channel\n",
    "        gt_mask_image = cv2.imread(mask_path, cv2.IMREAD_GRAYSCALE)\n",
    "\n",
    "        \n",
    "        if gt_mask_image is None:\n",
    "            print(f\"Error: Could not load mask image from {mask_path}. Skipping ground truth.\")\n",
    "            continue\n",
    "\n",
    "        # Binarizing\n",
    "        _, binary_mask = cv2.threshold(gt_mask_image, 1, 255, cv2.THRESH_BINARY)\n",
    "\n",
    "        # Connected component analysis\n",
    "        num_labels, labels_img, stats, centroids = cv2.connectedComponentsWithStats(binary_mask, 8, cv2.CV_32S)\n",
    "\n",
    "        gt_detections = []\n",
    "\n",
    "        for i in range(1, num_labels):\n",
    "            # Create a boolean mask for the current instance\n",
    "            instance_mask = (labels_img == i) \n",
    "\n",
    "            y_coords, x_coords = np.where(instance_mask)\n",
    "            \n",
    "            # Skip mask if empty \n",
    "            if y_coords.size == 0:\n",
    "                continue\n",
    "\n",
    "            x_min, x_max = x_coords.min(), x_coords.max()\n",
    "            y_min, y_max = y_coords.min(), y_coords.max()\n",
    "\n",
    "            img_height, img_width = gt_mask_image.shape[:2]\n",
    "            \n",
    "            bbox_width = max(1, x_max - x_min + 1)\n",
    "            bbox_height = max(1, y_max - y_min + 1)\n",
    "\n",
    "            rel_bounding_box = [\n",
    "                x_min / img_width,\n",
    "                y_min / img_height,\n",
    "                bbox_width / img_width,\n",
    "                bbox_height / img_height\n",
    "            ]\n",
    "\n",
    "            cropped_mask = instance_mask[y_min:y_max+1, x_min:x_max+1]\n",
    "\n",
    "            gt_detections.append(\n",
    "                fo.Detection(\n",
    "                    label=\"barnacle\",\n",
    "                    bounding_box=rel_bounding_box,\n",
    "                    mask=cropped_mask.astype(bool)  \n",
    "                )\n",
    "            )\n",
    "\n",
    "        sample[GROUND_TRUTH_FIELD] = fo.Detections(detections=gt_detections)\n",
    "        sample.save()\n",
    "\n",
    "    print(f\"Ground truth masks added to the '{GROUND_TRUTH_FIELD}' field for all samples.\")\n",
    "else:\n",
    "    print(f\"Field '{GROUND_TRUTH_FIELD}' already exists. Skipping ground truth addition.\")\n",
    "\n",
    "print(dataset)\n",
    "#Sanity Check \n",
    "sample = dataset.first()\n",
    "has_gt = sample.ground_truth is not None and len(sample.ground_truth.detections) > 0\n",
    "print(f\"Sample 1 has ground truth: {has_gt}\")\n",
    "print(\"-------------------------------------------------------------------------------------------------------------------------------------\")\n"
   ]
  },
  {
   "cell_type": "markdown",
   "id": "83618ad3",
   "metadata": {},
   "source": [
    "<font size =4> Here, I add the predictions made by my model to the dataset. By looping over the images, my model performs SAHI inference on the models, extrats the results, converts it into the format for fiftyone detection objects and saves the results under  \"PREDICTIONS_FIELDS\" in the dataset "
   ]
  },
  {
   "cell_type": "code",
   "execution_count": 7,
   "id": "d2223016",
   "metadata": {},
   "outputs": [
    {
     "name": "stdout",
     "output_type": "stream",
     "text": [
      "\n",
      "Running model inference and adding predictions to the 'predictions' field...\n",
      "Performing prediction on 49 slices.\n",
      "Performing prediction on 49 slices.\n",
      "Model predictions added to the 'predictions' field for all samples.\n",
      "Name:        barnacle\n",
      "Media type:  image\n",
      "Num samples: 2\n",
      "Persistent:  True\n",
      "Tags:        []\n",
      "Sample fields:\n",
      "    id:               fiftyone.core.fields.ObjectIdField\n",
      "    filepath:         fiftyone.core.fields.StringField\n",
      "    tags:             fiftyone.core.fields.ListField(fiftyone.core.fields.StringField)\n",
      "    metadata:         fiftyone.core.fields.EmbeddedDocumentField(fiftyone.core.metadata.ImageMetadata)\n",
      "    created_at:       fiftyone.core.fields.DateTimeField\n",
      "    last_modified_at: fiftyone.core.fields.DateTimeField\n",
      "    ground_truth:     fiftyone.core.fields.EmbeddedDocumentField(fiftyone.core.labels.Detections)\n",
      "    predictions:      fiftyone.core.fields.EmbeddedDocumentField(fiftyone.core.labels.Detections)\n",
      "Sample 1 has predictions field: True\n",
      "--------------------------------------------------------------------------------------------------------------------------------------\n"
     ]
    }
   ],
   "source": [
    "PREDICTIONS_FIELD= \"predictions\"\n",
    "if PREDICTIONS_FIELD not in  dataset.get_field_schema():\n",
    "    print(f\"\\nRunning model inference and adding predictions to the '{PREDICTIONS_FIELD}' field...\")\n",
    "\n",
    "    for sample in dataset:\n",
    "        model_output_preds = sahi_inference(sample.filepath) \n",
    "\n",
    "        # Convert raw model output into FiftyOne Detection objects\n",
    "        fo_predictions = model_output_preds.to_fiftyone_detections()\n",
    "        sample[PREDICTIONS_FIELD] = fo.Detections(detections=fo_predictions)\n",
    "        sample.save() # Saving changes \n",
    "\n",
    "    print(f\"Model predictions added to the 'predictions' field for all samples.\")\n",
    "else:\n",
    "    print(f\"Field 'predictions' already exists. Skipping prediction addition.\")\n",
    "\n",
    "print(dataset)\n",
    "#sanity check\n",
    "print(f\"Sample 1 has predictions field: {'predictions' in dataset.first().field_names}\")\n",
    "# for intelligibility\n",
    "print(\"--------------------------------------------------------------------------------------------------------------------------------------\")\n"
   ]
  },
  {
   "cell_type": "markdown",
   "id": "61e2a83d",
   "metadata": {},
   "source": [
    "<font size =4>Run evaluations using the predictions and the ground-truth labels calculated above. Do it for several different IoU values for a more comprehensive analysis "
   ]
  },
  {
   "cell_type": "code",
   "execution_count": 8,
   "id": "46a0cbfc",
   "metadata": {},
   "outputs": [
    {
     "name": "stdout",
     "output_type": "stream",
     "text": [
      "Evaluating detections...\n"
     ]
    },
    {
     "name": "stderr",
     "output_type": "stream",
     "text": [
      "07/26/2025 14:30:02 - INFO - fiftyone.utils.eval.detection -   Evaluating detections...\n"
     ]
    },
    {
     "name": "stdout",
     "output_type": "stream",
     "text": [
      " 100% |█████████████████████| 2/2 [12.0m elapsed, 0s remaining, 0.0 samples/s]  \n"
     ]
    },
    {
     "name": "stderr",
     "output_type": "stream",
     "text": [
      "07/26/2025 14:42:03 - INFO - eta.core.utils -    100% |█████████████████████| 2/2 [12.0m elapsed, 0s remaining, 0.0 samples/s]  \n"
     ]
    },
    {
     "name": "stdout",
     "output_type": "stream",
     "text": [
      "Performing IoU sweep...\n"
     ]
    },
    {
     "name": "stderr",
     "output_type": "stream",
     "text": [
      "07/26/2025 14:42:03 - INFO - fiftyone.utils.eval.coco -   Performing IoU sweep...\n"
     ]
    },
    {
     "name": "stdout",
     "output_type": "stream",
     "text": [
      " 100% |█████████████████████| 2/2 [14.2s elapsed, 0s remaining, 0.1 samples/s]    \n"
     ]
    },
    {
     "name": "stderr",
     "output_type": "stream",
     "text": [
      "07/26/2025 14:42:17 - INFO - eta.core.utils -    100% |█████████████████████| 2/2 [14.2s elapsed, 0s remaining, 0.1 samples/s]    \n"
     ]
    }
   ],
   "source": [
    "results = dataset.evaluate_detections(\n",
    "    PREDICTIONS_FIELD,\n",
    "    gt_field = GROUND_TRUTH_FIELD, \n",
    "    eval_key = \"sahi_evaluation\", \n",
    "    method = \"coco\", \n",
    "    iou = 0.5, \n",
    "    compute_mAP= True\n",
    ")"
   ]
  },
  {
   "cell_type": "code",
   "execution_count": 27,
   "id": "b279dca4",
   "metadata": {},
   "outputs": [
    {
     "name": "stdout",
     "output_type": "stream",
     "text": [
      "accuracy   0.12\n",
      "precision  0.18\n",
      "recall     0.27\n",
      "fscore     0.21\n",
      "support    2267\n"
     ]
    },
    {
     "data": {},
     "metadata": {},
     "output_type": "display_data"
    },
    {
     "data": {
      "image/png": "[encoded data removed]",
      "text/plain": [
       "<IPython.core.display.Image object>"
      ]
     },
     "metadata": {},
     "output_type": "display_data"
    },
    {
     "data": {
      "application/vnd.jupyter.widget-view+json": {
       "model_id": "3e4a5e325b27402c9517a25e6c8f7200",
       "version_major": 2,
       "version_minor": 0
      },
      "text/plain": [
       "FigureWidget({\n",
       "    'data': [{'mode': 'markers',\n",
       "              'opacity': 0.1,\n",
       "              'type': 'scatter',\n",
       "              'uid': 'f062ceac-9a73-4194-aa62-abd26e5dcf46',\n",
       "              'x': {'bdata': 'AAEAAQ==', 'dtype': 'i1'},\n",
       "              'y': {'bdata': 'AAABAQ==', 'dtype': 'i1'}},\n",
       "             {'colorscale': [[0.0, 'rgb(255,245,235)'], [0.125,\n",
       "                             'rgb(254,230,206)'], [0.25, 'rgb(253,208,162)'],\n",
       "                             [0.375, 'rgb(253,174,107)'], [0.5, 'rgb(253,141,60)'],\n",
       "                             [0.625, 'rgb(241,105,19)'], [0.75, 'rgb(217,72,1)'],\n",
       "                             [0.875, 'rgb(166,54,3)'], [1.0, 'rgb(127,39,4)']],\n",
       "              'hoverinfo': 'skip',\n",
       "              'showscale': False,\n",
       "              'type': 'heatmap',\n",
       "              'uid': 'a3cf380e-5109-4936-9497-4b08c2b58ea5',\n",
       "              'z': {'bdata': 'ZQsAAG8CbAY=', 'dtype': 'i2', 'shape': '2, 2'},\n",
       "              'zmax': np.int64(2917),\n",
       "              'zmin': 0},\n",
       "             {'colorbar': {'len': 1, 'lenmode': 'fraction'},\n",
       "              'colorscale': [[0.0, 'rgb(255,245,235)'], [0.125,\n",
       "                             'rgb(254,230,206)'], [0.25, 'rgb(253,208,162)'],\n",
       "                             [0.375, 'rgb(253,174,107)'], [0.5, 'rgb(253,141,60)'],\n",
       "                             [0.625, 'rgb(241,105,19)'], [0.75, 'rgb(217,72,1)'],\n",
       "                             [0.875, 'rgb(166,54,3)'], [1.0, 'rgb(127,39,4)']],\n",
       "              'hovertemplate': '<b>count: %{z}</b><br>ground_truth: %{y}<br>predictions: %{x}<extra></extra>',\n",
       "              'opacity': 0.25,\n",
       "              'type': 'heatmap',\n",
       "              'uid': '1a9f5047-a8bd-4e9a-a83e-3ab01e32719b',\n",
       "              'z': {'bdata': 'ZQsAAG8CbAY=', 'dtype': 'i2', 'shape': '2, 2'},\n",
       "              'zmax': np.int64(2917),\n",
       "              'zmin': 0}],\n",
       "    'layout': {'clickmode': 'event',\n",
       "               'margin': {'b': 0, 'l': 0, 'r': 0, 't': 30},\n",
       "               'template': '...',\n",
       "               'title': {},\n",
       "               'xaxis': {'constrain': 'domain',\n",
       "                         'range': [-0.5, 1.5],\n",
       "                         'tickmode': 'array',\n",
       "                         'ticktext': [barnacle, (none)],\n",
       "                         'tickvals': {'bdata': 'AAE=', 'dtype': 'i1'}},\n",
       "               'yaxis': {'constrain': 'domain',\n",
       "                         'range': [-0.5, 1.5],\n",
       "                         'scaleanchor': 'x',\n",
       "                         'scaleratio': 1,\n",
       "                         'tickmode': 'array',\n",
       "                         'ticktext': array(['(none)', 'barnacle'], dtype=object),\n",
       "                         'tickvals': {'bdata': 'AAE=', 'dtype': 'i1'}}}\n",
       "})"
      ]
     },
     "metadata": {},
     "output_type": "display_data"
    }
   ],
   "source": [
    "results.print_metrics()\n",
    "plot = results.plot_confusion_matrix(classes=[\"barnacle\"])\n",
    "plot.show()"
   ]
  },
  {
   "cell_type": "code",
   "execution_count": null,
   "id": "56d30ce2",
   "metadata": {},
   "outputs": [
    {
     "name": "stderr",
     "output_type": "stream",
     "text": [
      "07/26/2025 14:59:28 - INFO - choreographer.utils._tmpfile -   TemporaryDirectory.cleanup() worked.\n",
      "07/26/2025 14:59:28 - INFO - choreographer.utils._tmpfile -   shutil.rmtree worked.\n"
     ]
    },
    {
     "ename": "TypeError",
     "evalue": "ResponsivePlot.freeze() got an unexpected keyword argument 'verbose'",
     "output_type": "error",
     "traceback": [
      "\u001b[31m---------------------------------------------------------------------------\u001b[39m",
      "\u001b[31mTypeError\u001b[39m                                 Traceback (most recent call last)",
      "\u001b[36mCell\u001b[39m\u001b[36m \u001b[39m\u001b[32mIn[29]\u001b[39m\u001b[32m, line 1\u001b[39m\n\u001b[32m----> \u001b[39m\u001b[32m1\u001b[39m \u001b[43mplot\u001b[49m\u001b[43m.\u001b[49m\u001b[43mfreeze\u001b[49m\u001b[43m(\u001b[49m\u001b[43mverbose\u001b[49m\u001b[43m \u001b[49m\u001b[43m=\u001b[49m\u001b[38;5;28;43;01mFalse\u001b[39;49;00m\u001b[43m)\u001b[49m\n",
      "\u001b[31mTypeError\u001b[39m: ResponsivePlot.freeze() got an unexpected keyword argument 'verbose'"
     ]
    }
   ],
   "source": [
    "plot.freeze()"
   ]
  },
  {
   "cell_type": "code",
   "execution_count": null,
   "id": "2e47e543",
   "metadata": {},
   "outputs": [],
   "source": [
    "dataset = fo.load_dataset(\"barnacle\")\n",
    "session = fo.launch_app(dataset)\n",
    "predictions_view = dataset.take(2)\n",
    "session.view = predictions_view\n",
    "session.view = None\n",
    "session.show()\n"
   ]
  }
 ],
 "metadata": {
  "kernelspec": {
   "display_name": "venv (3.13.1)",
   "language": "python",
   "name": "python3"
  },
  "language_info": {
   "codemirror_mode": {
    "name": "ipython",
    "version": 3
   },
   "file_extension": ".py",
   "mimetype": "text/x-python",
   "name": "python",
   "nbconvert_exporter": "python",
   "pygments_lexer": "ipython3",
   "version": "3.13.1"
  }
 },
 "nbformat": 4,
 "nbformat_minor": 5
}
