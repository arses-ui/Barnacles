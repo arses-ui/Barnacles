{
 "cells": [
  {
   "cell_type": "code",
   "execution_count": 7,
   "id": "34c87961",
   "metadata": {},
   "outputs": [],
   "source": [
    "from inference_sdk import InferenceHTTPClient, InferenceConfiguration\n",
    "import helpers\n",
    "from helpers import crop_image_into_tiles\n",
    "from helpers import image_to_base64\n",
    "from helpers import directory_size\n",
    "import os "
   ]
  },
  {
   "cell_type": "markdown",
   "id": "e76a0312",
   "metadata": {},
   "source": [
    "<font size = 6> Image PreProcessing <br>\n",
    "<font size = 4> For this experiment, we will be using an api of a YOLO model that has already been fine-tuned on an image data set of barnacles. Upon playing around with the model, I discovered, the model works best when the objects to be detected are relatively large compared to the image size. So the first step we will take is to break down an image into smaller tiles and feed it to the model in a loop, the model will count the number of barnacles deted for the individual tiles, keep it stored in a variable and add it at the end"
   ]
  },
  {
   "cell_type": "code",
   "execution_count": 8,
   "id": "9630f633",
   "metadata": {},
   "outputs": [
    {
     "name": "stdout",
     "output_type": "stream",
     "text": [
      "Directory 'C:/Users/arses/Desktop/Cropped_images' already exists.\n"
     ]
    }
   ],
   "source": [
    "output_directory  = \"C:/Users/arses/Desktop/Cropped_images\"\n",
    "image_path = \"C:/Users/arses/Downloads/sample_image.png\"\n",
    "\n",
    "try : \n",
    "    os.mkdir(output_directory)\n",
    "    print(f\"Directory '{output_directory}' created successfully.\")\n",
    "\n",
    "#Already created this file\n",
    "except FileExistsError: \n",
    "    print(f\"Directory '{output_directory}' already exists.\")\n",
    "\n",
    "#Check access and permissions settings \n",
    "except PermissionError: \n",
    "    print(f\"Permission denied: Unable to create '{output_directory}.\")\n",
    "\n",
    "#Any other type of errors \n",
    "except Exception as e: \n",
    "    print(f\"An error occured:{e}\")"
   ]
  },
  {
   "cell_type": "markdown",
   "id": "7a95efa6",
   "metadata": {},
   "source": [
    "Crop the image into 16 smaller images to later feed to the model "
   ]
  },
  {
   "cell_type": "code",
   "execution_count": 9,
   "id": "fbab335a",
   "metadata": {},
   "outputs": [
    {
     "name": "stdout",
     "output_type": "stream",
     "text": [
      "Image cropped successfully\n"
     ]
    }
   ],
   "source": [
    "crop_image_into_tiles(image_path,output_directory)"
   ]
  },
  {
   "cell_type": "markdown",
   "id": "cd2c6481",
   "metadata": {},
   "source": [
    "<font size = 5> Iniializing the model"
   ]
  },
  {
   "cell_type": "code",
   "execution_count": 10,
   "id": "2c25c6ed",
   "metadata": {},
   "outputs": [],
   "source": [
    "custom_configuration= InferenceConfiguration(confidence_threshold=0.3)\n",
    "CLIENT= InferenceHTTPClient(\n",
    "    api_url =\"https://serverless.roboflow.com\", \n",
    "    api_key= \"CW6dMrLkiMDw9IRcbujY\"\n",
    ")"
   ]
  },
  {
   "cell_type": "markdown",
   "id": "2d983252",
   "metadata": {},
   "source": [
    "<font size= 5> Running Loop"
   ]
  },
  {
   "cell_type": "code",
   "execution_count": 11,
   "id": "c4c7d8b0",
   "metadata": {},
   "outputs": [
    {
     "name": "stdout",
     "output_type": "stream",
     "text": [
      "Number of files in 'C:/Users/arses/Desktop/Cropped_images': 289\n",
      "The number of barnacles present in the image is: 844\n"
     ]
    }
   ],
   "source": [
    "number_of_barnacles= 0\n",
    "number_of_images= directory_size(output_directory)\n",
    "for i in range(number_of_images):\n",
    "    with CLIENT.use_configuration(custom_configuration):\n",
    "        result = CLIENT.infer(f\"{output_directory}/tile_{i}.png\", model_id = \"barnacles-lnd34/1\")\n",
    "    number_of_barnacles+= len(result['predictions'])\n",
    "\n",
    "\n",
    "print(f\"The number of barnacles present in the image is: {number_of_barnacles}\")\n"
   ]
  },
  {
   "cell_type": "code",
   "execution_count": null,
   "id": "01af34ee",
   "metadata": {},
   "outputs": [],
   "source": []
  }
 ],
 "metadata": {
  "kernelspec": {
   "display_name": "venv",
   "language": "python",
   "name": "python3"
  },
  "language_info": {
   "codemirror_mode": {
    "name": "ipython",
    "version": 3
   },
   "file_extension": ".py",
   "mimetype": "text/x-python",
   "name": "python",
   "nbconvert_exporter": "python",
   "pygments_lexer": "ipython3",
   "version": "3.9.0"
  }
 },
 "nbformat": 4,
 "nbformat_minor": 5
}
