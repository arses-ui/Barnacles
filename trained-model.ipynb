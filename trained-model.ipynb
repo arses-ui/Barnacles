{
 "cells": [
  {
   "cell_type": "code",
   "execution_count": 14,
   "id": "eacb2abb",
   "metadata": {},
   "outputs": [],
   "source": [
    "from ultralytics import YOLO\n",
    "import helpers\n",
    "from helpers import crop_image_into_tiles\n",
    "from helpers import image_to_base64\n",
    "from helpers import directory_size\n",
    "import os "
   ]
  },
  {
   "cell_type": "markdown",
   "id": "7085ffa0",
   "metadata": {},
   "source": [
    "<font size=6> Introduction <br>\n",
    "<font size = 4>This notebook is very similar to the API-model folder but the only difference here is that the model used is YOLO11 which I trained by myself. I downloaded a dataset from Roboflow consisting of 500 images. I trained my model on the dataset and downloaded the best version of the model locally. The model was trained for 30 epochs and attained relatively high mAP50 score of 0.976 and 0.63 for mAP50-95, given the small training data size.\n",
    " "
   ]
  },
  {
   "cell_type": "code",
   "execution_count": 15,
   "id": "b9b70bae",
   "metadata": {},
   "outputs": [
    {
     "name": "stdout",
     "output_type": "stream",
     "text": [
      "\n",
      "image 1/1 c:\\Users\\arses\\Barnacles\\sample_image.png: 640x640 300 barnacles, 164.4ms\n",
      "Speed: 3.5ms preprocess, 164.4ms inference, 5.5ms postprocess per image at shape (1, 3, 640, 640)\n",
      "300\n"
     ]
    }
   ],
   "source": [
    "model = YOLO('best.pt')\n",
    "results = model('sample_image.png')\n",
    "\n",
    "object_count = len(results[0].boxes)\n",
    "print(object_count)\n"
   ]
  },
  {
   "cell_type": "markdown",
   "id": "8853bb25",
   "metadata": {},
   "source": [
    "<font size = 4> As you can see, the number of barnacles detected in from the provided sample is 300, which is obviously far less than the real number of barnacles. This is again due to the fact that the dataset on which the model was trained only contained a few barnacles per image. To combat this problem, we will follow the same procedure that we did with the api-model and break the image down into much smaller chunks and calculate the number of barnacles seperately. "
   ]
  },
  {
   "cell_type": "code",
   "execution_count": 16,
   "id": "b6440f8c",
   "metadata": {},
   "outputs": [
    {
     "name": "stdout",
     "output_type": "stream",
     "text": [
      "Directory 'C:/Users/arses/Desktop/Cropped_images' already exists.\n"
     ]
    }
   ],
   "source": [
    "output_directory  = \"C:/Users/arses/Desktop/Cropped_images\"\n",
    "image_path = \"C:/Users/arses/Downloads/sample_image.png\"\n",
    "\n",
    "try : \n",
    "    os.mkdir(output_directory)\n",
    "    print(f\"Directory '{output_directory}' created successfully.\")\n",
    "\n",
    "#Already created this file\n",
    "except FileExistsError: \n",
    "    print(f\"Directory '{output_directory}' already exists.\")\n",
    "\n",
    "#Check access and permissions settings \n",
    "except PermissionError: \n",
    "    print(f\"Permission denied: Unable to create '{output_directory}.\")\n",
    "\n",
    "#Any other type of errors \n",
    "except Exception as e: \n",
    "    print(f\"An error occured:{e}\")"
   ]
  },
  {
   "cell_type": "markdown",
   "id": "9feff78d",
   "metadata": {},
   "source": []
  },
  {
   "cell_type": "markdown",
   "id": "09cc4b04",
   "metadata": {},
   "source": [
    "Crop the image into 256 smaller images to later feed to the model "
   ]
  },
  {
   "cell_type": "code",
   "execution_count": 17,
   "id": "7cf76003",
   "metadata": {},
   "outputs": [
    {
     "name": "stdout",
     "output_type": "stream",
     "text": [
      "Image cropped successfully\n"
     ]
    }
   ],
   "source": [
    "crop_image_into_tiles(image_path,output_directory)"
   ]
  },
  {
   "cell_type": "markdown",
   "id": "ef514512",
   "metadata": {},
   "source": [
    "<font size = 5>Running the loop for the counting the number of barnacles"
   ]
  },
  {
   "cell_type": "code",
   "execution_count": null,
   "id": "3a221741",
   "metadata": {},
   "outputs": [
    {
     "name": "stdout",
     "output_type": "stream",
     "text": [
      "Number of files in 'C:/Users/arses/Desktop/Cropped_images': 289\n",
      "\n",
      "image 1/1 C:\\Users\\arses\\Desktop\\Cropped_images\\tile_0.png: 640x640 5 barnacles, 142.3ms\n",
      "Speed: 4.0ms preprocess, 142.3ms inference, 1.5ms postprocess per image at shape (1, 3, 640, 640)\n"
     ]
    },
    {
     "ename": "TypeError",
     "evalue": "list indices must be integers or slices, not str",
     "output_type": "error",
     "traceback": [
      "\u001b[1;31m---------------------------------------------------------------------------\u001b[0m",
      "\u001b[1;31mTypeError\u001b[0m                                 Traceback (most recent call last)",
      "Cell \u001b[1;32mIn[18], line 7\u001b[0m\n\u001b[0;32m      5\u001b[0m     result \u001b[38;5;241m=\u001b[39m model(\u001b[38;5;124mf\u001b[39m\u001b[38;5;124m\"\u001b[39m\u001b[38;5;132;01m{\u001b[39;00moutput_directory\u001b[38;5;132;01m}\u001b[39;00m\u001b[38;5;124m/tile_\u001b[39m\u001b[38;5;132;01m{\u001b[39;00mi\u001b[38;5;132;01m}\u001b[39;00m\u001b[38;5;124m.png\u001b[39m\u001b[38;5;124m\"\u001b[39m)\n\u001b[0;32m      6\u001b[0m     count \u001b[38;5;241m=\u001b[39m \u001b[38;5;28mlen\u001b[39m(result[\u001b[38;5;241m0\u001b[39m]\u001b[38;5;241m.\u001b[39mboxes)\n\u001b[1;32m----> 7\u001b[0m     number_of_barnacles\u001b[38;5;241m+\u001b[39m\u001b[38;5;241m=\u001b[39m \u001b[38;5;28mlen\u001b[39m(\u001b[43mresult\u001b[49m\u001b[43m[\u001b[49m\u001b[38;5;124;43m'\u001b[39;49m\u001b[38;5;124;43mpredictions\u001b[39;49m\u001b[38;5;124;43m'\u001b[39;49m\u001b[43m]\u001b[49m)\n\u001b[0;32m      9\u001b[0m \u001b[38;5;28mprint\u001b[39m(\u001b[38;5;124mf\u001b[39m\u001b[38;5;124m\"\u001b[39m\u001b[38;5;124mThe number of barnacles present in the image is: \u001b[39m\u001b[38;5;132;01m{\u001b[39;00mnumber_of_barnacles\u001b[38;5;132;01m}\u001b[39;00m\u001b[38;5;124m\"\u001b[39m)\n",
      "\u001b[1;31mTypeError\u001b[0m: list indices must be integers or slices, not str"
     ]
    }
   ],
   "source": [
    "number_of_barnacles= 0\n",
    "number_of_images= directory_size(output_directory)\n",
    "for i in range(number_of_images):\n",
    "    \n",
    "    result = model(f\"{output_directory}/tile_{i}.png\")\n",
    "    count = len(result[0].boxes)\n",
    "    number_of_barnacles+= count\n",
    "\n",
    "print(f\"The number of barnacles present in the image is: {number_of_barnacles}\")\n"
   ]
  }
 ],
 "metadata": {
  "kernelspec": {
   "display_name": "venv",
   "language": "python",
   "name": "python3"
  },
  "language_info": {
   "codemirror_mode": {
    "name": "ipython",
    "version": 3
   },
   "file_extension": ".py",
   "mimetype": "text/x-python",
   "name": "python",
   "nbconvert_exporter": "python",
   "pygments_lexer": "ipython3",
   "version": "3.9.0"
  }
 },
 "nbformat": 4,
 "nbformat_minor": 5
}
